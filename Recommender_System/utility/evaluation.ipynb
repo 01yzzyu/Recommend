{
 "cells": [
  {
   "cell_type": "code",
   "execution_count": null,
   "id": "c66dd58f",
   "metadata": {},
   "outputs": [],
   "source": [
    "from dataclasses import dataclass\n",
    "from typing import Tuple, List, Callable, Dict\n",
    "\n",
    "\n",
    "@dataclass\n",
    "class TopkData:\n",
    "    test_user_item_set: dict  # 在测试集上每个用户可以参与推荐的物品集合\n",
    "    test_user_positive_item_set: dict  # 在测试集上每个用户有行为的物品集合\n",
    "\n",
    "\n",
    "@dataclass\n",
    "class TopkStatistic:\n",
    "    hit: int = 0  # 命中数\n",
    "    ru: int = 0  # 推荐数\n",
    "    tu: int = 0  # 行为数\n",
    "\n",
    "\n",
    "def topk_evaluate(topk_data: TopkData, score_fn: Callable[[Dict[str, List[int]]], List[float]],\n",
    "                  ks=[1, 2, 5, 10, 20, 50, 100]) -> Tuple[List[float], List[float]]:\n",
    "    kv = {k: TopkStatistic() for k in ks}\n",
    "    for user_id, item_set in topk_data.test_user_item_set.items():\n",
    "        ui = {'user_id': [user_id] * len(item_set), 'item_id': list(item_set)}\n",
    "        item_score_list = list(zip(item_set, score_fn(ui)))\n",
    "        sorted_item_list = [x[0] for x in sorted(item_score_list, key=lambda x: x[1], reverse=True)]\n",
    "\n",
    "        positive_set = topk_data.test_user_positive_item_set[user_id]\n",
    "        for k in ks:\n",
    "            topk_set = set(sorted_item_list[:k])\n",
    "            kv[k].hit += len(topk_set & positive_set)\n",
    "            kv[k].ru += len(topk_set)\n",
    "            kv[k].tu += len(positive_set)\n",
    "    return [kv[k].hit / kv[k].ru for k in ks], [kv[k].hit / kv[k].tu for k in ks]  # precision, recall\n"
   ]
  }
 ],
 "metadata": {},
 "nbformat": 4,
 "nbformat_minor": 5
}
