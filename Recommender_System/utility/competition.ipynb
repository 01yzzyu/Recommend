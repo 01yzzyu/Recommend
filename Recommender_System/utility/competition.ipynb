{
 "cells": [
  {
   "cell_type": "code",
   "execution_count": null,
   "id": "ea022120",
   "metadata": {},
   "outputs": [],
   "source": [
    "if __name__ == '__main__':\n",
    "    import Recommender_System.utility.gpu_memory_growth\n",
    "    import tensorflow as tf\n",
    "    from Recommender_System.data import data_loader, data_process\n",
    "    from Recommender_System.algorithm.FM.model import FM_model\n",
    "    from Recommender_System.algorithm.GMF.model import GMF_model\n",
    "    from Recommender_System.algorithm.LFM.model import LFM_model\n",
    "    from Recommender_System.algorithm.MLP.model import MLP_model\n",
    "    from Recommender_System.algorithm.NeuMF.model import NeuMF_model\n",
    "    from Recommender_System.algorithm.DeepFM.model import DeepFM_model\n",
    "    from Recommender_System.algorithm.train import train\n",
    "\n",
    "    n_user, n_item, train_data, test_data, topk_data = data_process.pack(data_loader.ml100k)\n",
    "\n",
    "    dim = 16\n",
    "\n",
    "    model = FM_model(n_user, n_item, dim=dim, l2=0)\n",
    "    train(model, train_data, test_data, topk_data, epochs=10)\n",
    "\n",
    "    model = GMF_model(n_user, n_item, dim=dim, l2=0)\n",
    "    train(model, train_data, test_data, topk_data, epochs=10)\n",
    "\n",
    "    model = LFM_model(n_user, n_item, dim=dim, l2=0)\n",
    "    train(model, train_data, test_data, topk_data, loss_object=tf.losses.MeanSquaredError(), epochs=10)\n",
    "\n",
    "    model = MLP_model(n_user, n_item, dim=dim * 2, layers=[dim * 2, dim, dim // 2], l2=0)\n",
    "    train(model, train_data, test_data, topk_data, epochs=10)\n",
    "\n",
    "    model, _, _ = NeuMF_model(n_user, n_item, gmf_dim=dim // 2, mlp_dim=dim * 2, layers=[dim * 2, dim, dim // 2], l2=0)\n",
    "    train(model, train_data, test_data, topk_data, epochs=10)\n",
    "\n",
    "    model = DeepFM_model(n_user, n_item, dim // 2, layers=[dim, dim, dim], l2=0)\n",
    "    train(model, train_data, test_data, topk_data, epochs=10)\n"
   ]
  }
 ],
 "metadata": {},
 "nbformat": 4,
 "nbformat_minor": 5
}
