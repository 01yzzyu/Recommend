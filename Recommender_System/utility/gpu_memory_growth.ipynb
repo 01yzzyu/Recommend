{
 "cells": [
  {
   "cell_type": "code",
   "execution_count": null,
   "id": "6adcbdf6",
   "metadata": {},
   "outputs": [],
   "source": [
    "\"\"\"\n",
    "import此文件后将gpu设置为显存增量模式\n",
    "\"\"\"\n",
    "\n",
    "from tensorflow import config\n",
    "\n",
    "gpus = physical_devices = config.list_physical_devices('GPU')\n",
    "if len(gpus) == 0:\n",
    "    print('当前没有检测到gpu，设置显存增量模式无效。')\n",
    "for gpu in gpus:\n",
    "    try:\n",
    "        config.experimental.set_memory_growth(gpu, True)\n",
    "    except RuntimeError as e:\n",
    "        print(e)\n"
   ]
  }
 ],
 "metadata": {},
 "nbformat": 4,
 "nbformat_minor": 5
}
