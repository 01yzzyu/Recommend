{
 "cells": [
  {
   "cell_type": "code",
   "execution_count": null,
   "id": "502562be",
   "metadata": {},
   "outputs": [],
   "source": [
    "def count():\n",
    "    with open('lastfm-kg15k/kg.txt') as f:\n",
    "        count = len(f.readlines())\n",
    "    print(count)\n",
    "\n",
    "\n",
    "def cut():\n",
    "    import os\n",
    "    from Recommender_System.data.data_loader import book_crossing\n",
    "    data = book_crossing()\n",
    "    item_set = {d[1] for d in data}\n",
    "    delete_item_list = []\n",
    "    lines = []\n",
    "    directory = 'bx-kg150k'\n",
    "\n",
    "    with open(os.path.join(directory, 'item_id2entity_id_old.txt'), 'r') as reader:\n",
    "        for line in reader.readlines():\n",
    "            item_id = line.strip().split('\\t')[0]  # str\n",
    "            if item_id in item_set:\n",
    "                lines.append(line)\n",
    "            else:\n",
    "                delete_item_list.append(item_id)\n",
    "\n",
    "    with open(os.path.join(directory, 'item_id2entity_id.txt'), 'w', encoding='utf-8') as writer:\n",
    "        writer.writelines(lines)\n",
    "\n",
    "    print(len(delete_item_list))\n",
    "    print(delete_item_list)\n",
    "\n",
    "\n",
    "if __name__ == '__main__':\n",
    "    cut()\n"
   ]
  }
 ],
 "metadata": {},
 "nbformat": 4,
 "nbformat_minor": 5
}
