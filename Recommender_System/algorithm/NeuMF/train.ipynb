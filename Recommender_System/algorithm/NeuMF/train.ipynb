{
 "cells": [
  {
   "cell_type": "code",
   "execution_count": null,
   "id": "ac11102b",
   "metadata": {},
   "outputs": [],
   "source": [
    "from Recommender_System.algorithm.NeuMF.model import NeuMF_model\n",
    "from Recommender_System.algorithm.train import train, test\n",
    "import tensorflow as tf\n",
    "\n",
    "\n",
    "def train_with_pretrain(n_user, n_item, train_data, test_data, topk_data, gmf_dim, mlp_dim, layers, l2):\n",
    "    neumf_model, gmf_model, mlp_model = NeuMF_model(n_user, n_item, gmf_dim=gmf_dim, mlp_dim=mlp_dim, layers=layers, l2=l2)\n",
    "    print('预训练GMF部分')\n",
    "    train(gmf_model, train_data, test_data, topk_data, epochs=10, batch=512)\n",
    "    print('预训练MLP部分')\n",
    "    train(mlp_model, train_data, test_data, topk_data, epochs=10, batch=512)\n",
    "\n",
    "    out_kernel = tf.concat((gmf_model.get_layer('gmf_out').get_weights()[0], mlp_model.get_layer('mlp_out').get_weights()[0]), 0)\n",
    "    out_bias = gmf_model.get_layer('gmf_out').get_weights()[1] + mlp_model.get_layer('mlp_out').get_weights()[1]\n",
    "    neumf_model.get_layer('out').set_weights([out_kernel * 0.5, out_bias * 0.5])\n",
    "\n",
    "    test(neumf_model, train_data, test_data, topk_data, batch=512)\n",
    "    train(neumf_model, train_data, test_data, topk_data, optimizer=tf.keras.optimizers.SGD(0.0001), epochs=10, batch=512)\n",
    "\n",
    "\n",
    "def train_without_pretrain(n_user, n_item, train_data, test_data, topk_data, gmf_dim, mlp_dim, layers, l2):\n",
    "    neumf_model, _, _ = NeuMF_model(n_user, n_item, gmf_dim=gmf_dim, mlp_dim=mlp_dim, layers=layers, l2=l2)\n",
    "    train(neumf_model, train_data, test_data, topk_data, epochs=10, batch=512)\n"
   ]
  }
 ],
 "metadata": {},
 "nbformat": 4,
 "nbformat_minor": 5
}
