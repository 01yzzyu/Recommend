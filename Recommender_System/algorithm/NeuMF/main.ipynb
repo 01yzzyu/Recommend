{
 "cells": [
  {
   "cell_type": "code",
   "execution_count": null,
   "id": "b6539cb8",
   "metadata": {},
   "outputs": [],
   "source": [
    "if __name__ == '__main__':\n",
    "    import Recommender_System.utility.gpu_memory_growth\n",
    "    from Recommender_System.algorithm.NeuMF.train import train_with_pretrain, train_without_pretrain\n",
    "    from Recommender_System.data import data_loader, data_process\n",
    "\n",
    "    n_user, n_item, train_data, test_data, topk_data = data_process.pack(data_loader.ml100k)\n",
    "\n",
    "    gmf_dim, mlp_dim, layers, l2 = 8, 32, [32, 16, 8], 0\n",
    "\n",
    "    train_with_pretrain(n_user, n_item, train_data, test_data, topk_data, gmf_dim, mlp_dim, layers, l2)\n",
    "    print('---------------------------------------------------------------------------------------------')\n",
    "    train_without_pretrain(n_user, n_item, train_data, test_data, topk_data, gmf_dim, mlp_dim, layers, l2)\n"
   ]
  }
 ],
 "metadata": {},
 "nbformat": 4,
 "nbformat_minor": 5
}
