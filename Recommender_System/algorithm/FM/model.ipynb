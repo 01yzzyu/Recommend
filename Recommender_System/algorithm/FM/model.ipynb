{
 "cells": [
  {
   "cell_type": "code",
   "execution_count": null,
   "id": "f634dace",
   "metadata": {},
   "outputs": [],
   "source": [
    "import tensorflow as tf\n",
    "from tensorflow.keras.layers import Layer\n",
    "from Recommender_System.utility.decorator import logger\n",
    "\n",
    "\n",
    "class FM_Layer(Layer):\n",
    "    def call(self, inputs):\n",
    "        user_embedding, item_embedding, user_bias, item_bias = inputs\n",
    "        fm = tf.reduce_sum(user_embedding * item_embedding, axis=1, keepdims=True)\n",
    "        return fm + user_bias + item_bias\n",
    "\n",
    "\n",
    "@logger('初始化FM模型：', ('n_user', 'n_item', 'dim', 'l2'))\n",
    "def FM_model(n_user: int, n_item: int, dim=8, l2=1e-6) -> tf.keras.Model:\n",
    "    l2 = tf.keras.regularizers.l2(l2)\n",
    "\n",
    "    user_id = tf.keras.Input(shape=(), name='user_id', dtype=tf.int32)\n",
    "    user_embedding = tf.keras.layers.Embedding(n_user, dim, embeddings_regularizer=l2)(user_id)\n",
    "    user_bias = tf.keras.layers.Embedding(n_user, 1, embeddings_initializer='zeros')(user_id)\n",
    "\n",
    "    item_id = tf.keras.Input(shape=(), name='item_id', dtype=tf.int32)\n",
    "    item_embedding = tf.keras.layers.Embedding(n_item, dim, embeddings_regularizer=l2)(item_id)\n",
    "    item_bias = tf.keras.layers.Embedding(n_item, 1, embeddings_initializer='zeros')(item_id)\n",
    "\n",
    "    fm_layer = FM_Layer()\n",
    "    x = fm_layer([user_embedding, item_embedding, user_bias, item_bias])\n",
    "\n",
    "    out = tf.keras.activations.sigmoid(x)\n",
    "    return tf.keras.Model(inputs=[user_id, item_id], outputs=out)\n",
    "\n",
    "\n",
    "if __name__ == '__main__':\n",
    "    tf.keras.utils.plot_model(FM_model(1, 1), 'graph.png', show_shapes=True)\n"
   ]
  }
 ],
 "metadata": {},
 "nbformat": 4,
 "nbformat_minor": 5
}
