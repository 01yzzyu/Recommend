{
 "cells": [
  {
   "cell_type": "code",
   "execution_count": null,
   "id": "bf60d5a6",
   "metadata": {},
   "outputs": [],
   "source": [
    "if __name__ == '__main__':\n",
    "    from Recommender_System.algorithm.未跑通.KGCN.tool import construct_undirected_kg, get_adj_list\n",
    "    from Recommender_System.algorithm.未跑通.KGCN.model import KGCN_model\n",
    "    from Recommender_System.algorithm.未跑通.KGCN.train import train\n",
    "    from Recommender_System.algorithm.未跑通.KGNNLS.tool import get_interaction_table\n",
    "    from Recommender_System.algorithm.未跑通.KGNNLS.model import KGNNLS_model\n",
    "    from Recommender_System.data import kg_loader, data_process\n",
    "    import tensorflow as tf\n",
    "\n",
    "    n_user, n_item, n_entity, n_relation, train_data, test_data, kg, topk_data = data_process.pack_kg(kg_loader.ml1m_kg1m, negative_sample_threshold=4)\n",
    "    neighbor_size, iter_size, dim, l2, ls, aggregator, lr, epochs, batch = 16, 1, 16, 1e-7, 1., 'neighbor', 0.01, 10, 512\n",
    "    \n",
    "    #n_user, n_item, n_entity, n_relation, train_data, test_data, kg, topk_data = data_process.pack_kg(kg_loader.ml20m_kg500k, negative_sample_threshold=4)\n",
    "    #neighbor_size, iter_size, dim, l2, ls, aggregator, lr, epochs, batch = 16, 1, 32, 1e-7, 1., 'sum', 0.01, 10, 65536\n",
    "    \n",
    "    #n_user, n_item, n_entity, n_relation, train_data, test_data, kg, topk_data = data_process.pack_kg(kg_loader.lastfm_kg15k)\n",
    "    #neighbor_size, iter_size, dim, l2, ls, aggregator, lr, epochs, batch = 8, 1, 16, 4e-5, 0.1, 'sum', 0.001, 10, 128\n",
    "\n",
    "    #n_user, n_item, n_entity, n_relation, train_data, test_data, kg, topk_data = data_process.pack_kg(kg_loader.bx_kg150k)\n",
    "    #neighbor_size, iter_size, dim, l2, ls, aggregator, lr, epochs, batch = 8, 2, 64, 1e-5, 0.5, 'sum', 1e-4, 10, 256\n",
    "\n",
    "    interaction_table = get_interaction_table(train_data, n_entity)\n",
    "    adj_entity, adj_relation = get_adj_list(construct_undirected_kg(kg), n_entity, neighbor_size)\n",
    "\n",
    "    model = KGNNLS_model(n_user, n_entity, n_relation, adj_entity, adj_relation, interaction_table, neighbor_size, iter_size, dim, l2, ls, aggregator)\n",
    "    train(model, train_data, test_data, topk_data, tf.keras.optimizers.Adam(lr), epochs, batch)\n",
    "\n",
    "    model = KGCN_model(n_user, n_entity, n_relation, adj_entity, adj_relation, neighbor_size, iter_size, dim, l2, aggregator)\n",
    "    train(model, train_data, test_data, topk_data, tf.keras.optimizers.Adam(lr), epochs, batch)\n"
   ]
  }
 ],
 "metadata": {},
 "nbformat": 4,
 "nbformat_minor": 5
}
