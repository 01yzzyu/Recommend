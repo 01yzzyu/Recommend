{
 "cells": [
  {
   "cell_type": "code",
   "execution_count": null,
   "id": "1fc98cb1",
   "metadata": {},
   "outputs": [],
   "source": [
    "from Recommender_System.utility.decorator import logger\n",
    "import tensorflow as tf\n",
    "\n",
    "\n",
    "@logger('根据训练集数据构建用户物品-标签哈希表，', ('n_entity',))\n",
    "def get_interaction_table(train_data, n_entity) -> tf.lookup.StaticHashTable:\n",
    "    offset = 10 ** len(str(n_entity))\n",
    "    keys = tf.constant([d[0] * offset + d[1] for d in train_data], dtype=tf.int64)\n",
    "    values = tf.constant([d[2] for d in train_data], dtype=tf.keras.backend.floatx())\n",
    "\n",
    "    interaction_table = tf.lookup.StaticHashTable(\n",
    "        tf.lookup.KeyValueTensorInitializer(keys, values, key_dtype=tf.int64, value_dtype=tf.keras.backend.floatx()),\n",
    "        default_value=0.5)\n",
    "\n",
    "    return interaction_table\n"
   ]
  }
 ],
 "metadata": {},
 "nbformat": 4,
 "nbformat_minor": 5
}
