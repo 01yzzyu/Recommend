{
 "cells": [
  {
   "cell_type": "code",
   "execution_count": null,
   "id": "530c43cc",
   "metadata": {},
   "outputs": [],
   "source": [
    "if __name__ == '__main__':\n",
    "    from Recommender_System.algorithm.未跑通.KGCN.tool import construct_undirected_kg, get_adj_list\n",
    "    from Recommender_System.algorithm.未跑通.KGCN.model import KGCN_model\n",
    "    from Recommender_System.algorithm.未跑通.KGCN.train import train\n",
    "    from Recommender_System.data import kg_loader, data_process\n",
    "    import tensorflow as tf\n",
    "\n",
    "    n_user, n_item, n_entity, n_relation, train_data, test_data, kg, topk_data = data_process.pack_kg(kg_loader.ml1m_kg1m, negative_sample_threshold=4)\n",
    "\n",
    "    neighbor_size = 16\n",
    "    adj_entity, adj_relation = get_adj_list(construct_undirected_kg(kg), n_entity, neighbor_size)\n",
    "\n",
    "    model = KGCN_model(n_user, n_entity, n_relation, adj_entity, adj_relation, neighbor_size, iter_size=1, dim=16, l2=1e-7, aggregator='sum')\n",
    "\n",
    "    train(model, train_data, test_data, topk_data, optimizer=tf.keras.optimizers.Adam(0.01), epochs=10, batch=512)\n"
   ]
  }
 ],
 "metadata": {},
 "nbformat": 4,
 "nbformat_minor": 5
}
