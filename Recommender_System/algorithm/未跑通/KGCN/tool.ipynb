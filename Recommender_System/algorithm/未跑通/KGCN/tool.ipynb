{
 "cells": [
  {
   "cell_type": "code",
   "execution_count": null,
   "id": "37c27348",
   "metadata": {},
   "outputs": [],
   "source": [
    "from Recommender_System.utility.decorator import logger\n",
    "from typing import List, Tuple, Dict\n",
    "from collections import defaultdict\n",
    "import numpy as np\n",
    "import random\n",
    "\n",
    "\n",
    "@logger('根据知识图谱结构构建无向图')\n",
    "def construct_undirected_kg(kg: List[Tuple[int, int, int]]) -> Dict[int, List[Tuple[int, int]]]:\n",
    "    kg_dict = defaultdict(list)\n",
    "    for head_id, relation_id, tail_id in kg:\n",
    "        kg_dict[head_id].append((relation_id, tail_id))\n",
    "        kg_dict[tail_id].append((relation_id, head_id))  # 将知识图谱视为无向图\n",
    "    return kg_dict\n",
    "\n",
    "@logger('根据知识图谱无向图构建邻接表，', ('n_entity', 'neighbor_size'))\n",
    "def get_adj_list(kg_dict: Dict[int, List[Tuple[int, int]]], n_entity: int, neighbor_size: int) -> Tuple[List[List[int]], List[List[int]]]:\n",
    "    adj_entity, adj_relation = [[] for _ in range(n_entity)], [[] for _ in range(n_entity)]\n",
    "    for entity_id in range(n_entity):\n",
    "        neighbors = kg_dict[entity_id]\n",
    "        n_neighbor = len(neighbors)\n",
    "        if n_neighbor < neighbor_size:\n",
    "            # 随机选择其他实体填充\n",
    "            fill_ids = random.sample(range(n_entity), neighbor_size - n_neighbor)\n",
    "            fill_relations = [0] * (neighbor_size - n_neighbor)  # 假设自关系ID为0\n",
    "            neighbors += list(zip(fill_relations, fill_ids))\n",
    "\n",
    "        sample_indices = np.random.choice(range(len(neighbors)), size=neighbor_size, replace=False)\n",
    "        adj_relation[entity_id] = [neighbors[i][0] for i in sample_indices]\n",
    "        adj_entity[entity_id] = [neighbors[i][1] for i in sample_indices]\n",
    "\n",
    "    return adj_entity, adj_relation\n",
    "\n"
   ]
  }
 ],
 "metadata": {},
 "nbformat": 4,
 "nbformat_minor": 5
}
