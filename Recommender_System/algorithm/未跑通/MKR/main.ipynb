{
 "cells": [
  {
   "cell_type": "code",
   "execution_count": null,
   "id": "d3b11d15",
   "metadata": {},
   "outputs": [],
   "source": [
    "if __name__ == '__main__':\n",
    "    from tensorflow.keras.optimizers import Adam\n",
    "    from Recommender_System.data import kg_loader, data_process\n",
    "    from Recommender_System.algorithm.未跑通.MKR.model import MKR_model\n",
    "    from Recommender_System.algorithm.未跑通.MKR.train import train\n",
    "\n",
    "    n_user, n_item, n_entity, n_relation, train_data, test_data, kg, topk_data = data_process.pack_kg(kg_loader.ml1m_kg20k, keep_all_head=False, negative_sample_threshold=4)\n",
    "    model_rs, model_kge = MKR_model(n_user, n_item, n_entity, n_relation, dim=8, L=1, H=1, l2=1e-6)\n",
    "    train(model_rs, model_kge, train_data, test_data, kg, topk_data, kge_interval=3,\n",
    "          optimizer_rs=Adam(0.02), optimizer_kge=Adam(0.01), epochs=20, batch=4096)\n",
    "\n",
    "    '''\n",
    "    n_user, n_item, n_entity, n_relation, train_data, test_data, kg, topk_data = data_process.pack_kg(kg_loader.lastfm_kg15k, keep_all_head=False)\n",
    "    model_rs, model_kge = MKR_model(n_user, n_item, n_entity, n_relation, dim=4, L=2, H=1, l2=1e-6)\n",
    "    train(model_rs, model_kge, train_data, test_data, kg, topk_data, kge_interval=2,\n",
    "          optimizer_rs=Adam(1e-3), optimizer_kge=Adam(2e-4), epochs=10, batch=256)\n",
    "    '''\n",
    "    '''\n",
    "    n_user, n_item, n_entity, n_relation, train_data, test_data, kg, topk_data = data_process.pack_kg(kg_loader.bx_kg20k, keep_all_head=False)\n",
    "    model_rs, model_kge = MKR_model(n_user, n_item, n_entity, n_relation, dim=8, L=1, H=1, l2=1e-6)\n",
    "    train(model_rs, model_kge, train_data, test_data, kg, topk_data, kge_interval=2,\n",
    "          optimizer_rs=Adam(2e-4), optimizer_kge=Adam(2e-5), epochs=10, batch=32)\n",
    "    '''\n"
   ]
  }
 ],
 "metadata": {},
 "nbformat": 4,
 "nbformat_minor": 5
}
