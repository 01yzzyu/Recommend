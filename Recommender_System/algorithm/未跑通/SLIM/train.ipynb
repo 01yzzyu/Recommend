{
 "cells": [
  {
   "cell_type": "code",
   "execution_count": null,
   "id": "aa16cd02",
   "metadata": {},
   "outputs": [],
   "source": [
    "import tensorflow as tf\n",
    "from Recommender_System.algorithm.common import topk\n",
    "from Recommender_System.algorithm.未跑通.SLIM.model import SLIM\n",
    "from Recommender_System.utility.evaluation import TopkData\n",
    "from Recommender_System.utility.decorator import logger\n",
    "\n",
    "\n",
    "@logger('开始训练，', ('l12', 'epochs'))\n",
    "def train(model: SLIM, topk_data: TopkData, l12=0.01, epochs=1000):\n",
    "    optimizer = tf.keras.optimizers.Ftrl(l1_regularization_strength=l12, l2_regularization_strength=l12)\n",
    "    score_fn = lambda ui: model({k: tf.constant(v, dtype=tf.int32) for k, v in ui.items()})\n",
    "\n",
    "    @tf.function\n",
    "    def train_step():\n",
    "        with tf.GradientTape() as tape:\n",
    "            loss = model.loss(training=True) + sum(model.losses)\n",
    "        gradients = tape.gradient(loss, model.trainable_variables)\n",
    "        optimizer.apply_gradients(zip(gradients, model.trainable_variables))\n",
    "        return loss\n",
    "\n",
    "    for epoch in range(1, epochs + 1):\n",
    "        loss = train_step()\n",
    "        if epoch == 1 or (epoch < 20 and epoch % 5 == 0) or (epoch < 100 and epoch % 20 == 0) or epoch % 100 == 0:\n",
    "            print('epoch=', epoch, ', loss=', loss.numpy(), sep='')\n",
    "            topk(topk_data, score_fn)\n"
   ]
  }
 ],
 "metadata": {},
 "nbformat": 4,
 "nbformat_minor": 5
}
