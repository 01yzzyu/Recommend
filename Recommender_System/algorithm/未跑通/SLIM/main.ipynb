{
 "cells": [
  {
   "cell_type": "code",
   "execution_count": null,
   "id": "120256cb",
   "metadata": {},
   "outputs": [],
   "source": [
    "if __name__ == '__main__':\n",
    "    from Recommender_System.data import data_loader, data_process\n",
    "    from Recommender_System.algorithm.未跑通.SLIM.tool import get_user_item_matrix\n",
    "    from Recommender_System.algorithm.未跑通.SLIM.model import SLIM\n",
    "    from Recommender_System.algorithm.未跑通.SLIM.train import train\n",
    "\n",
    "    n_user, n_item, train_data, test_data, topk_data = data_process.pack(data_loader.ml100k, negative_sample_ratio=0, split_test_ratio=0.125)\n",
    "\n",
    "    A = get_user_item_matrix(n_user, n_item, train_data)\n",
    "\n",
    "    model = SLIM(n_user, n_item, A)\n",
    "\n",
    "    train(model, topk_data, epochs=1000)\n"
   ]
  }
 ],
 "metadata": {},
 "nbformat": 4,
 "nbformat_minor": 5
}
