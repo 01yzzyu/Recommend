{
 "cells": [
  {
   "cell_type": "code",
   "execution_count": null,
   "id": "43b361ba",
   "metadata": {},
   "outputs": [],
   "source": [
    "from typing import List, Tuple\n",
    "from Recommender_System.utility.decorator import logger\n",
    "\n",
    "\n",
    "@logger('根据训练集数据得到用户物品交互矩阵，', ('n_user', 'n_item'))\n",
    "def get_user_item_matrix(n_user: int, n_item: int, train_data: List[Tuple[int, int, int]]) -> List[List[int]]:\n",
    "    user_item_matrix = [[0 for _ in range(n_item)] for _ in range(n_user)]\n",
    "    for user_id, item_id, label in train_data:\n",
    "        user_item_matrix[user_id][item_id] = label\n",
    "    return user_item_matrix\n"
   ]
  }
 ],
 "metadata": {},
 "nbformat": 4,
 "nbformat_minor": 5
}
