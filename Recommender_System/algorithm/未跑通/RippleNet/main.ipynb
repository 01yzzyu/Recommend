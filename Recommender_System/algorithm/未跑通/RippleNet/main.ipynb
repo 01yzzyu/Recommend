{
 "cells": [
  {
   "cell_type": "code",
   "execution_count": null,
   "id": "c7f94b62",
   "metadata": {},
   "outputs": [],
   "source": [
    "if __name__ == '__main__':\n",
    "    from Recommender_System.algorithm.未跑通.RippleNet.tool import get_user_positive_item_list, construct_directed_kg, get_ripple_set\n",
    "    from Recommender_System.algorithm.未跑通.RippleNet.model import RippleNet_model\n",
    "    from Recommender_System.algorithm.未跑通.RippleNet.train import train\n",
    "    from Recommender_System.data import kg_loader, data_process\n",
    "    import tensorflow as tf\n",
    "\n",
    "    n_user, n_item, n_entity, n_relation, train_data, test_data, kg, topk_data = data_process.pack_kg(kg_loader.ml1m_kg1m, negative_sample_threshold=4, split_ensure_positive=True)\n",
    "    hop_size, ripple_size = 2, 32\n",
    "    ripple_set = get_ripple_set(n_user, hop_size, ripple_size, get_user_positive_item_list(train_data), construct_directed_kg(kg))\n",
    "    model = RippleNet_model(n_entity, n_relation, ripple_set, hop_size, ripple_size, dim=16, kge_weight=0.01, l2=1e-7)\n",
    "    train(model, train_data, test_data, topk_data, optimizer=tf.keras.optimizers.Adam(0.01), epochs=10, batch=512)\n",
    "    '''\n",
    "    n_user, n_item, n_entity, n_relation, train_data, test_data, kg, topk_data = data_process.pack_kg(kg_loader.bx_kg150k, split_ensure_positive=True)\n",
    "    hop_size, ripple_size = 2, 32\n",
    "    ripple_set = get_ripple_set(n_user, hop_size, ripple_size, get_user_positive_item_list(train_data), construct_directed_kg(kg))\n",
    "    model = RippleNet_model(n_entity, n_relation, ripple_set, hop_size, ripple_size, dim=32, kge_weight=0.01, l2=2e-5)\n",
    "    train(model, train_data, test_data, topk_data, optimizer=tf.keras.optimizers.Adam(0.001), epochs=10, batch=512)\n",
    "    '''"
   ]
  }
 ],
 "metadata": {},
 "nbformat": 4,
 "nbformat_minor": 5
}
