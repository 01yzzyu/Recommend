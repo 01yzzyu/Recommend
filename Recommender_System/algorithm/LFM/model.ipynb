{
 "cells": [
  {
   "cell_type": "code",
   "execution_count": null,
   "id": "d5dd7d98",
   "metadata": {},
   "outputs": [],
   "source": [
    "import tensorflow as tf\n",
    "from Recommender_System.utility.decorator import logger\n",
    "\n",
    "\n",
    "# 创建一个自定义层，用于处理TensorFlow操作\n",
    "class ReduceSumLayer(tf.keras.layers.Layer):\n",
    "    def call(self, inputs):\n",
    "        # 在这里执行reduce_sum操作\n",
    "        result = tf.reduce_sum(inputs, axis=1)\n",
    "        # 应用其他必要的操作\n",
    "        result = tf.where(result < 0., 0., result)\n",
    "        result = tf.where(result > 1., 1., result)\n",
    "        result = result[..., tf.newaxis]\n",
    "        return result\n",
    "\n",
    "\n",
    "@logger('初始化LFM模型：', ('n_user', 'n_item', 'dim', 'l2'))\n",
    "def LFM_model(n_user: int, n_item: int, dim=100, l2=1e-6) -> tf.keras.Model:\n",
    "    l2 = tf.keras.regularizers.l2(l2)\n",
    "    user_id = tf.keras.Input(shape=(), name='user_id', dtype=tf.int32)\n",
    "    u = tf.keras.layers.Embedding(n_user, dim, embeddings_regularizer=l2)(user_id)\n",
    "    item_id = tf.keras.Input(shape=(), name='item_id', dtype=tf.int32)\n",
    "    i = tf.keras.layers.Embedding(n_item, dim, embeddings_regularizer=l2)(item_id)\n",
    "\n",
    "    # 使用自定义层\n",
    "    x = ReduceSumLayer()([u, i])\n",
    "\n",
    "    return tf.keras.Model(inputs=[user_id, item_id], outputs=x)\n",
    "\n",
    "\n",
    "if __name__ == '__main__':\n",
    "    tf.keras.utils.plot_model(LFM_model(1, 1), 'graph.png', show_shapes=True)\n"
   ]
  }
 ],
 "metadata": {},
 "nbformat": 4,
 "nbformat_minor": 5
}
