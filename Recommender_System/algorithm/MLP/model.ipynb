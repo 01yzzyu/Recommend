{
 "cells": [
  {
   "cell_type": "code",
   "execution_count": null,
   "id": "7edbb174",
   "metadata": {},
   "outputs": [],
   "source": [
    "import tensorflow as tf\n",
    "from Recommender_System.utility.decorator import logger\n",
    "\n",
    "# 创建一个自定义层用于处理concat操作\n",
    "class ConcatLayer(tf.keras.layers.Layer):\n",
    "    def call(self, inputs):\n",
    "        return tf.concat(inputs, axis=1)\n",
    "\n",
    "@logger('初始化MLP模型：', ('n_user', 'n_item', 'dim', 'layers', 'l2', 'dropout'))\n",
    "def MLP_model(n_user: int, n_item: int, dim=32, layers=[32, 16, 8], l2=1e-6, dropout=0.2) -> tf.keras.Model:\n",
    "    l2 = tf.keras.regularizers.l2(l2)\n",
    "    user_id = tf.keras.Input(shape=(), name='user_id', dtype=tf.int32)\n",
    "    u = tf.keras.layers.Embedding(n_user, dim, embeddings_regularizer=l2)(user_id)\n",
    "    item_id = tf.keras.Input(shape=(), name='item_id', dtype=tf.int32)\n",
    "    i = tf.keras.layers.Embedding(n_item, dim, embeddings_regularizer=l2)(item_id)\n",
    "\n",
    "    # 使用自定义层进行concat操作\n",
    "    x = ConcatLayer()([u, i])\n",
    "\n",
    "    for n in layers:\n",
    "        x = tf.keras.layers.Dropout(rate=dropout)(x)\n",
    "        x = tf.keras.layers.Dense(n, activation='relu', kernel_regularizer=l2)(x)\n",
    "    x = tf.keras.layers.Dropout(rate=dropout)(x)\n",
    "    x = tf.keras.layers.Dense(1, activation='sigmoid', kernel_regularizer=l2)(x)\n",
    "\n",
    "    return tf.keras.Model(inputs=[user_id, item_id], outputs=x)\n",
    "\n",
    "\n",
    "if __name__ == '__main__':\n",
    "    tf.keras.utils.plot_model(MLP_model(1, 1), 'graph.png', show_shapes=True)\n"
   ]
  }
 ],
 "metadata": {},
 "nbformat": 4,
 "nbformat_minor": 5
}
