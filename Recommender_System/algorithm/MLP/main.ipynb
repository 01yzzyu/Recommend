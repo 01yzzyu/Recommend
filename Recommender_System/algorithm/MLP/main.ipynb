{
 "cells": [
  {
   "cell_type": "code",
   "execution_count": null,
   "id": "54200d7c",
   "metadata": {},
   "outputs": [],
   "source": [
    "if __name__ == '__main__':\n",
    "    import Recommender_System.utility.gpu_memory_growth\n",
    "    from Recommender_System.data import data_loader, data_process\n",
    "    from Recommender_System.algorithm.MLP.model import MLP_model\n",
    "    from Recommender_System.algorithm.train import train\n",
    "\n",
    "    n_user, n_item, train_data, test_data, topk_data = data_process.pack(data_loader.ml100k)\n",
    "\n",
    "    model = MLP_model(n_user, n_item, dim=32, layers=[64, 64, 64], l2=0, dropout=0.3)\n",
    "\n",
    "    train(model, train_data, test_data, topk_data, epochs=30, batch=512)\n"
   ]
  }
 ],
 "metadata": {},
 "nbformat": 4,
 "nbformat_minor": 5
}
