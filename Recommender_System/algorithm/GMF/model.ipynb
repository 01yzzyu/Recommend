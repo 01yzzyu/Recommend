{
 "cells": [
  {
   "cell_type": "code",
   "execution_count": null,
   "id": "2893ad8e",
   "metadata": {},
   "outputs": [],
   "source": [
    "import tensorflow as tf\n",
    "from Recommender_System.utility.decorator import logger\n",
    "\n",
    "\n",
    "@logger('初始化GMF模型：', ('n_user', 'n_item', 'dim', 'l2'))\n",
    "def GMF_model(n_user, n_item, dim=8, l2=1e-6) -> tf.keras.Model:\n",
    "    l2 = tf.keras.regularizers.l2(l2)\n",
    "\n",
    "    user_id = tf.keras.Input(shape=(), name='user_id', dtype=tf.int32)\n",
    "    u = tf.keras.layers.Embedding(n_user, dim, embeddings_regularizer=l2)(user_id)\n",
    "    item_id = tf.keras.Input(shape=(), name='item_id', dtype=tf.int32)\n",
    "    i = tf.keras.layers.Embedding(n_item, dim, embeddings_regularizer=l2)(item_id)\n",
    "\n",
    "    x = u * i\n",
    "    x = tf.keras.layers.Dense(1, activation='sigmoid', kernel_regularizer=l2)(x)\n",
    "    return tf.keras.Model(inputs=[user_id, item_id], outputs=x)\n",
    "\n",
    "\n",
    "if __name__ == '__main__':\n",
    "    model = GMF_model(3, 3)\n",
    "    model.summary()\n",
    "    tf.keras.utils.plot_model(model, 'graph.png', show_shapes=True)\n"
   ]
  }
 ],
 "metadata": {},
 "nbformat": 4,
 "nbformat_minor": 5
}
