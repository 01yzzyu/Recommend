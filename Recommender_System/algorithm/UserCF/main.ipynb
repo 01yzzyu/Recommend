{
 "cells": [
  {
   "cell_type": "code",
   "execution_count": null,
   "id": "63514931",
   "metadata": {},
   "outputs": [],
   "source": [
    "if __name__ == '__main__':\n",
    "    from Recommender_System.data import data_loader, data_process\n",
    "    from Recommender_System.algorithm.UserCF.tool import user_similarity, user_item_score\n",
    "    from Recommender_System.algorithm.common import topk\n",
    "\n",
    "    n_user, n_item, train_data, test_data, topk_data = data_process.pack(data_loader.ml100k, negative_sample_ratio=0)\n",
    "\n",
    "    W = user_similarity(train_data, n_user, n_item)\n",
    "    scores = user_item_score(train_data, n_user, n_item, W, N=80)\n",
    "\n",
    "    score_fn = lambda ui: [scores[u][i] for u, i in zip(ui['user_id'], ui['item_id'])]\n",
    "    topk(topk_data, score_fn)\n"
   ]
  }
 ],
 "metadata": {},
 "nbformat": 4,
 "nbformat_minor": 5
}
